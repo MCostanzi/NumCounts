{
  "cells": [
    {
      "cell_type": "markdown",
      "metadata": {
        "id": "view-in-github",
        "colab_type": "text"
      },
      "source": [
        "<a href=\"https://colab.research.google.com/github/MCostanzi/NumCounts/blob/master/red_sequence.ipynb\" target=\"_parent\"><img src=\"https://colab.research.google.com/assets/colab-badge.svg\" alt=\"Open In Colab\"/></a>"
      ]
    },
    {
      "cell_type": "markdown",
      "id": "bbe34b9c",
      "metadata": {
        "id": "bbe34b9c"
      },
      "source": [
        "## Overview\n",
        "\n",
        "This notebook demonstrates how to identify and model the galaxy red sequence using COSMOS, DES and SPT data. Explanatory text is added throughout to clarify each step."
      ]
    },
    {
      "cell_type": "markdown",
      "id": "be7e6234",
      "metadata": {
        "id": "be7e6234"
      },
      "source": [
        "### Installing dependencies\n",
        "\n",
        "The first code cell installs the Python packages required for the analysis, including `emcee` for MCMC sampling and `pygtc` for plotting utilities."
      ]
    },
    {
      "cell_type": "code",
      "execution_count": null,
      "id": "a9c7edc6-e29e-42a3-b5cf-1f41dfecbe42",
      "metadata": {
        "id": "a9c7edc6-e29e-42a3-b5cf-1f41dfecbe42"
      },
      "outputs": [],
      "source": [
        "%pip install emcee pygtc\n",
        "from astropy.table import Table  # Import Table for working with astronomical tables\n",
        "import numpy as np\n",
        "from matplotlib import pyplot as plt\n",
        "import emcee\n",
        "import pygtc\n",
        "from tqdm import tqdm # Import tqdm for progress bars\n",
        "from scipy.interpolate import interp1d\n",
        "from astropy.stats import sigma_clip"
      ]
    },
    {
      "cell_type": "code",
      "source": [
        "from google.colab import drive # Import drive to mount Google Drive\n",
        "drive.mount('/content/drive') # mount google drive"
      ],
      "metadata": {
        "id": "xmD9TKRYBJeP"
      },
      "id": "xmD9TKRYBJeP",
      "execution_count": null,
      "outputs": []
    },
    {
      "cell_type": "markdown",
      "id": "cbdc202f",
      "metadata": {
        "id": "cbdc202f"
      },
      "source": [
        "### Loading COSMOS data\n",
        "\n",
        "The COSMOS catalog is read from a FITS file stored on Google Drive. We inspect a few rows to ensure the data are loaded correctly."
      ]
    },
    {
      "cell_type": "code",
      "execution_count": null,
      "id": "ed305fa5-d48e-4f58-b1f8-06bb1e44b26f",
      "metadata": {
        "id": "ed305fa5-d48e-4f58-b1f8-06bb1e44b26f"
      },
      "outputs": [],
      "source": [
        "cosmos = Table.read(\"/content/drive/My Drive/ObservationalCosmology/Photo-z/cosmosM.fit\")\n",
        "cosmos[0:3]"
      ]
    },
    {
      "cell_type": "markdown",
      "id": "86cc5c70",
      "metadata": {
        "id": "86cc5c70"
      },
      "source": [
        "### Computing rest-frame magnitudes and UVJ selection\n",
        "\n",
        "COSMOS photometry is converted to U, V and J magnitudes. We apply a colour selection using the helper function `UVJsel` to flag passive galaxies."
      ]
    },
    {
      "cell_type": "code",
      "execution_count": null,
      "id": "e19a7e16-05e3-4a98-9b21-5156f3af4188",
      "metadata": {
        "id": "e19a7e16-05e3-4a98-9b21-5156f3af4188"
      },
      "outputs": [],
      "source": [
        "# Correct EZrest magnitudes to use the same definition detailed in Whitaker et al. (2011)\n",
        "U = -2.5*np.log10(cosmos[\"EZrestU\"]) + 23.9 # Calculate U magnitude\n",
        "V = -2.5*np.log10(cosmos[\"EZrestV\"]) + 23.9 # Calculate V magnitude\n",
        "J = -2.5*np.log10(cosmos[\"EZrestJ\"]) + 23.9 # Calculate J magnitude\n",
        "cosmos[\"U\"] = U # Add U magnitude to the table\n",
        "cosmos[\"V\"] = V # Add V magnitude to the table\n",
        "cosmos[\"J\"] = J # Add J magnitude to the table\n",
        "z = cosmos[\"EZzphot\"] # Get photometric redshift\n",
        "\n",
        "# Define a cut based on redshift, source type, model fit, and stellar mass\n",
        "cut = (cosmos[\"EZzphot\"]<1.5) & (cosmos[\"SolModel\"] != \"PointSource\") & (cosmos[\"FModel\"] == 0) & (cosmos[\"loglpMassmed\"] > 8.5)\n",
        "#cut = np.isfinite(U) # Alternative cut for finite U magnitudes\n",
        "\n",
        "def UVJsel(cosmos):\n",
        "    \"\"\"\n",
        "    Selects passive galaxies based on UVJ colors and redshift.\n",
        "\n",
        "    Args:\n",
        "        cosmos (astropy.table.Table): The COSMOS catalog.\n",
        "    \"\"\"\n",
        "    passive = np.zeros(len(cosmos),dtype=bool) # Initialize boolean array for passive selection\n",
        "    U = -2.5*np.log10(cosmos[\"EZrestU\"]) + 23.9 # Calculate U magnitude\n",
        "    V = -2.5*np.log10(cosmos[\"EZrestV\"]) + 23.9 # Calculate V magnitude\n",
        "    J = -2.5*np.log10(cosmos[\"EZrestJ\"]) + 23.9 # Calculate J magnitude\n",
        "    z = cosmos[\"EZzphot\"] # Get photometric redshift\n",
        "\n",
        "    # Apply UVJ selection criteria for different redshift ranges\n",
        "    passive[((U -V) > (0.88*(V - J) + 0.69)) & (0.0 < z) & (z < 0.5) & (U-V>1.3) & (V-J<1.6)] = True\n",
        "    passive[((U -V) > 0.88*(V - J) + 0.59) & (0.5 <= z) & (z < 1.0) & (U-V>1.3) & (V-J<1.6)] = True\n",
        "    passive[((U -V) > 0.88*(V - J) + 0.49) & (1.0 <= z) & (z < 2.0) & (U-V>1.3) & (V-J<1.6)] = True\n",
        "\n",
        "    cosmos[\"passive\"] = passive # Add passive selection to the table\n",
        "#    return(passive) # Optionally return the boolean array\n",
        "UVJsel(cosmos) # Apply the UVJ selection"
      ]
    },
    {
      "cell_type": "markdown",
      "id": "d8a1fe97",
      "metadata": {
        "id": "d8a1fe97"
      },
      "source": [
        "### Visualising the UVJ diagram\n",
        "\n",
        "A 2D histogram illustrates how galaxies populate the UVJ colour space. Selection boundaries for different redshift ranges are overplotted."
      ]
    },
    {
      "cell_type": "code",
      "execution_count": null,
      "id": "3349bec7-a9ee-49bd-a7a9-707fb6b6f200",
      "metadata": {
        "id": "3349bec7-a9ee-49bd-a7a9-707fb6b6f200"
      },
      "outputs": [],
      "source": [
        "def plotz05():\n",
        "    \"\"\" Defines the UVJ selection boundary for redshift < 0.5. \"\"\"\n",
        "    x = np.linspace(-5,5,1000)\n",
        "    y = np.zeros_like(x)\n",
        "    y = (0.88*x + 0.69)\n",
        "    y[y<1.3] = 1.3\n",
        "    x[x>1.6] = 1.6\n",
        "    return x,y\n",
        "\n",
        "def plotz10():\n",
        "    \"\"\" Defines the UVJ selection boundary for 0.5 < redshift < 1.0. \"\"\"\n",
        "    x = np.linspace(-5,5,1000)\n",
        "    y = np.zeros_like(x)\n",
        "    y = (0.88*x + 0.59)\n",
        "    y[y<1.3] = 1.3\n",
        "    x[x>1.6] = 1.6\n",
        "    return x,y\n",
        "\n",
        "def plotz20():\n",
        "    \"\"\" Defines the UVJ selection boundary for 1.0 < redshift < 2.0. \"\"\"\n",
        "    x = np.linspace(-5,5,1000)\n",
        "    y = np.zeros_like(x)\n",
        "    y = (0.88*x + 0.49)\n",
        "    y[y<1.3] = 1.3\n",
        "    x[x>1.6] = 1.6\n",
        "    return x,y"
      ]
    },
    {
      "cell_type": "code",
      "execution_count": null,
      "id": "944a1520-08ad-4ffa-a46d-b6b129f27774",
      "metadata": {
        "id": "944a1520-08ad-4ffa-a46d-b6b129f27774"
      },
      "outputs": [],
      "source": [
        "UV = U[cut]-V[cut] # Calculate U-V color for selected galaxies\n",
        "VJ = V[cut]-J[cut] # Calculate V-J color for selected galaxies\n",
        "#plt.plot(VJ,UV,'.',alpha=0.1) # Plot all selected galaxies\n",
        "#plt.plot(cosmos[\"V\"][cosmos[\"passive\"]]-cosmos[\"J\"][cosmos[\"passive\"]], cosmos[\"U\"][cosmos[\"passive\"]]-cosmos[\"V\"][cosmos[\"passive\"]],'.',alpha=0.01) # Plot passive galaxies\n",
        "\n",
        "pcut = np.array(cosmos[\"passive\"][cut]) # Get boolean array for passive selection within the cut\n",
        "plt.figure(figsize=(8, 6)) # Set the figure size, optional\n",
        "# Plot 2D histogram of all selected galaxies\n",
        "plt.hist2d(VJ, UV, bins=50, cmap='ocean_r',range=[(0,2.3),(0,2.5)]) # Adjust the number of bins and colormap as needed\n",
        "# Plot 2D histogram of passive galaxies\n",
        "plt.hist2d(VJ[pcut], UV[pcut], bins=50, cmap='hot_r',range=[(0,2.3),(0,2.5)],alpha=0.45) # Adjust the number of bins and colormap as needed\n",
        "#plt.plot(cosmos[\"V\"][~cosmos[\"passive\"]]-cosmos[\"J\"][~cosmos[\"passive\"]], cosmos[\"U\"][~cosmos[\"passive\"]]-cosmos[\"V\"][~cosmos[\"passive\"]],'g.',alpha=0.005) # Plot non-passive galaxies\n",
        "#plt.plot(cosmos[\"V\"][cosmos[\"passive\"]]-cosmos[\"J\"][cosmos[\"passive\"]], cosmos[\"U\"][cosmos[\"passive\"]]-cosmos[\"V\"][cosmos[\"passive\"]],'r.',alpha=0.01) # Plot passive galaxies\n",
        "#plt.colorbar() # Show the color bar representing the counts\n",
        "\n",
        "x05,y05 = plotz05() # Get boundary for z < 0.5\n",
        "plt.plot(x05,y05,'k:',label='z<0.5') # Plot boundary for z < 0.5\n",
        "x10,y10 = plotz10() # Get boundary for 0.5 < z < 1.0\n",
        "plt.plot(x10,y10,'k--',label='0.5<z<1') # Plot boundary for 0.5 < z < 1.0\n",
        "x20,y20 = plotz20() # Get boundary for 1.0 < z < 2.0\n",
        "plt.plot(x20,y20,'k',label='1<z<2') # Plot boundary for 1.0 < z < 2.0\n",
        "\n",
        "plt.ylabel('UV') # Set x-axis label\n",
        "plt.xlabel('VJ') # Set y-axis label\n",
        "plt.title('2D Histogram of UV vs VJ') # Set title\n",
        "\n",
        "plt.legend() # Show legend"
      ]
    },
    {
      "cell_type": "markdown",
      "id": "1cd1ea09",
      "metadata": {
        "id": "1cd1ea09"
      },
      "source": [
        "### Filtering passive galaxies\n",
        "\n",
        "After selecting passive objects we restrict the catalogue to only these galaxies for subsequent analysis."
      ]
    },
    {
      "cell_type": "code",
      "execution_count": null,
      "id": "0bc49e1f-d17b-4e3e-a4ca-fd166f91263a",
      "metadata": {
        "id": "0bc49e1f-d17b-4e3e-a4ca-fd166f91263a"
      },
      "outputs": [],
      "source": [
        "cosmos = cosmos[cut]"
      ]
    },
    {
      "cell_type": "markdown",
      "id": "d54aa026",
      "metadata": {
        "id": "d54aa026"
      },
      "source": [
        "### DES filter definitions\n",
        "\n",
        "Arrays containing the effective wavelengths of DES filters are defined. These are later used in the colour--magnitude relation model."
      ]
    },
    {
      "cell_type": "code",
      "execution_count": null,
      "id": "5962b27e-1a75-4530-9106-25e733ba8e7f",
      "metadata": {
        "id": "5962b27e-1a75-4530-9106-25e733ba8e7f"
      },
      "outputs": [],
      "source": [
        "filters = np.array([473, 642, 784, 926]) # Effective wavelengths of DES filters (g, r, i, z)\n",
        "filters_b = np.array([398, 568, 710, 850]) # Blue edge wavelengths of DES filters\n",
        "filters_r = np.array([548, 716, 857, 1002]) # Red edge wavelengths of DES filters\n",
        "# Estimate the redshift at which the different bands are sensitive to the 4000A (400nm) break\n",
        "print(filters_b/400-1) # Print normalized blue edge wavelengths\n",
        "print(filters_r/400-1) # Print normalized red edge wavelengths"
      ]
    },
    {
      "cell_type": "code",
      "execution_count": null,
      "id": "d011f1f8-1341-45b2-8d30-6ca0a7673c2e",
      "metadata": {
        "id": "d011f1f8-1341-45b2-8d30-6ca0a7673c2e"
      },
      "outputs": [],
      "source": [
        "MLAB = [\"MAG_G\",\"MAG_R\",\"MAG_I\",\"MAG_Z\"] # Column names for DES magnitudes\n",
        "MLABERR = [\"MAGERR_G\",\"MAGERR_R\",\"MAGERR_I\",\"MAGERR_Z\"] # Column names for DES magnitude errors"
      ]
    },
    {
      "cell_type": "markdown",
      "id": "237850f0",
      "metadata": {
        "id": "237850f0"
      },
      "source": [
        "### Loading DES photometry\n",
        "\n",
        "DES data are read from disk and column names are standardised. Magnitude limits are applied to ensure quality photometry."
      ]
    },
    {
      "cell_type": "code",
      "execution_count": null,
      "id": "546c2b03-850d-499e-b1d0-0de1389d6e1c",
      "metadata": {
        "id": "546c2b03-850d-499e-b1d0-0de1389d6e1c"
      },
      "outputs": [],
      "source": [
        "des = Table.read(\"/content/drive/My Drive/ObservationalCosmology/Photo-z/DEScosmosy3deep.fits\")\n",
        "# Standardize column names for magnitudes and errors\n",
        "des[\"MAG_G\"] = des[\"BDF_MAG_G\"]\n",
        "des[\"MAG_R\"] = des[\"BDF_MAG_R\"]\n",
        "des[\"MAG_I\"] = des[\"BDF_MAG_I\"]\n",
        "des[\"MAG_Z\"] = des[\"BDF_MAG_Z\"]\n",
        "\n",
        "des[\"MAGERR_G\"] = des[\"BDF_MAG_ERR_DERED_G\"]\n",
        "des[\"MAGERR_R\"] = des[\"BDF_MAG_ERR_DERED_R\"]\n",
        "des[\"MAGERR_I\"] = des[\"BDF_MAG_ERR_DERED_I\"]\n",
        "des[\"MAGERR_Z\"] = des[\"BDF_MAG_ERR_DERED_Z\"]\n",
        "\n",
        "mlim = [26.46,25.73,25.54,24.97] # Magnitude limits for DES filters (see: TableA1 arxiv:2012.12824)\n",
        "blab = [\"G\",\"R\",\"I\",\"Z\"] # Filter band names\n",
        "\n",
        "# Apply magnitude limits to filter out low-quality photometry\n",
        "for j,i in enumerate(blab):\n",
        "    des = des[des[\"MAG_\"+i]<mlim[j]]\n",
        "\n",
        "# Apply additional cuts based on magnitude and error values\n",
        "for ilab in range(3):\n",
        "    test = (\n",
        "    (des[MLAB[ilab]] > 15) &\n",
        "    (des[MLAB[ilab + 1]] > 15) &\n",
        "    (des[MLABERR[ilab]] > 0) &\n",
        "    (des[MLABERR[ilab + 1]] > 0)\n",
        "    )\n",
        "    des = des[test]"
      ]
    },
    {
      "cell_type": "markdown",
      "id": "dd205958",
      "metadata": {
        "id": "dd205958"
      },
      "source": [
        "### Cross-matching COSMOS with DES\n",
        "\n",
        "Using `astropy` we match sources between COSMOS and DES within one arcsecond to obtain consistent colours."
      ]
    },
    {
      "cell_type": "code",
      "execution_count": null,
      "id": "7601829e-9368-4160-99f0-7c4223f51644",
      "metadata": {
        "id": "7601829e-9368-4160-99f0-7c4223f51644"
      },
      "outputs": [],
      "source": [
        "import astropy.units as u\n",
        "from astropy.coordinates import SkyCoord"
      ]
    },
    {
      "cell_type": "code",
      "execution_count": null,
      "id": "e58e36f4-0a67-4f5e-8817-f0e1502fdf77",
      "metadata": {
        "id": "e58e36f4-0a67-4f5e-8817-f0e1502fdf77"
      },
      "outputs": [],
      "source": [
        "c1 = SkyCoord(cosmos[\"RAJ2000\"], cosmos[\"DEJ2000\"]) # Create SkyCoord object for COSMOS sources\n",
        "c2 = SkyCoord(des[\"RA\"]*u.deg, des[\"DEC\"]*u.deg) # Create SkyCoord object for DES sources"
      ]
    },
    {
      "cell_type": "code",
      "execution_count": null,
      "id": "cf62e21b-e7be-404d-accf-772f0cab623d",
      "metadata": {
        "id": "cf62e21b-e7be-404d-accf-772f0cab623d"
      },
      "outputs": [],
      "source": [
        "max_sep = 1.0 * u.arcsec # Define maximum separation for matching\n",
        "idx, d2d, d3d = c1.match_to_catalog_sky(c2) # Match COSMOS sources to DES sources\n",
        "sep_constraint = d2d < max_sep # Create a constraint based on separation\n",
        "cosmosm = cosmos[sep_constraint] # Filter COSMOS catalog based on separation constraint\n",
        "desm = des[idx[sep_constraint]] # Filter DES catalog based on matching indices and separation constraint"
      ]
    },
    {
      "cell_type": "code",
      "execution_count": null,
      "id": "4694ac27-8530-4f14-87a2-41cf8e69184c",
      "metadata": {
        "id": "4694ac27-8530-4f14-87a2-41cf8e69184c"
      },
      "outputs": [],
      "source": [
        "cosmosm[0:4], len(cosmosm) # Display the first 4 rows of the matched COSMOS table and its length"
      ]
    },
    {
      "cell_type": "code",
      "execution_count": null,
      "id": "2568304d-bda4-4f6b-85f0-f25098dbe09d",
      "metadata": {
        "id": "2568304d-bda4-4f6b-85f0-f25098dbe09d"
      },
      "outputs": [],
      "source": [
        "desm[0:4] # Display the first 4 rows of the matched DES table"
      ]
    },
    {
      "cell_type": "markdown",
      "id": "8cb21d23",
      "metadata": {
        "id": "8cb21d23"
      },
      "source": [
        "### Colour--magnitude diagnostic plots\n",
        "\n",
        "These cells visualise galaxy colours versus magnitude and use sigma clipping to identify outliers."
      ]
    },
    {
      "cell_type": "code",
      "execution_count": null,
      "id": "600d9101-58a5-40fe-888e-81a81a04fc72",
      "metadata": {
        "id": "600d9101-58a5-40fe-888e-81a81a04fc72"
      },
      "outputs": [],
      "source": [
        "# Create a test sample based on redshift and passive selection\n",
        "test = (cosmosm[\"EZzphot\"]<0.5) & (cosmosm[\"EZzphot\"]>0.45) & (cosmosm[\"passive\"] )"
      ]
    },
    {
      "cell_type": "code",
      "execution_count": null,
      "id": "fab46dc7-567e-4b19-843c-ce05de5eae32",
      "metadata": {
        "id": "fab46dc7-567e-4b19-843c-ce05de5eae32"
      },
      "outputs": [],
      "source": [
        "# Plot R-I color vs I magnitude for the test sample\n",
        "plt.plot(desm[\"MAG_I\"][test],desm[\"MAG_R\"][test]-desm[\"MAG_I\"][test],'.',alpha=0.3)\n",
        "# Perform sigma clipping to identify outliers\n",
        "sigmacl = sigma_clip(desm[\"MAG_R\"][test]-desm[\"MAG_I\"][test],sigma=3., cenfunc='median',stdfunc='mad_std',maxiters=None, masked=True)\n",
        "sigmaclipped = sigmacl.mask # Get the mask indicating clipped values\n",
        "# Plot the clipped outliers\n",
        "plt.plot(desm[\"MAG_I\"][test][sigmaclipped],desm[\"MAG_R\"][test][sigmaclipped]-desm[\"MAG_I\"][test][sigmaclipped],'.',alpha=0.3)\n",
        "#plt.ylim(-1,3)"
      ]
    },
    {
      "cell_type": "code",
      "execution_count": null,
      "id": "2a32e829-ab43-4f3d-8579-5b0d7aa74bf9",
      "metadata": {
        "id": "2a32e829-ab43-4f3d-8579-5b0d7aa74bf9"
      },
      "outputs": [],
      "source": [
        "# Plot R-I color vs I magnitude for the entire DES catalog\n",
        "plt.plot(des[\"MAG_I\"],des[\"MAG_R\"]-des[\"MAG_I\"],'.',alpha=0.3)\n",
        "plt.ylim(-1,3) # Set y-axis limits\n",
        "plt.xlim(15,25) # Set x-axis limits"
      ]
    },
    {
      "cell_type": "code",
      "execution_count": null,
      "id": "98c25dbc-ca58-432c-a7a0-6fc2356ab636",
      "metadata": {
        "id": "98c25dbc-ca58-432c-a7a0-6fc2356ab636"
      },
      "outputs": [],
      "source": [
        "zrange = np.arange(0.05,1.5,0.075) # Define redshift bins\n",
        "dz = zrange[1]-zrange[0] # Calculate redshift bin width\n",
        "\n",
        "# Plot color-magnitude relation in different redshift bins\n",
        "for i,j in enumerate(zrange):\n",
        "    # Create a test sample for the current redshift bin and passive galaxies\n",
        "    test = (cosmosm[\"EZzphot\"]<j+dz) & (cosmosm[\"EZzphot\"]>=j) & (cosmosm[\"passive\"])\n",
        "    # Plot R-I color vs I magnitude for the current redshift bin\n",
        "    plt.plot(desm[\"MAG_I\"][test][::10],desm[\"MAG_R\"][test][::10]-desm[\"MAG_I\"][test][::10],'.',alpha=1,label=str(j))\n",
        "plt.legend() # Show legend\n",
        "plt.xlim(15,25) # Set x-axis limits\n",
        "plt.ylim(-1,2) # Set y-axis limits"
      ]
    },
    {
      "cell_type": "markdown",
      "id": "b0b73c9f",
      "metadata": {
        "id": "b0b73c9f"
      },
      "source": [
        "### Fitting the colour--magnitude relation\n",
        "\n",
        "In discrete redshift bins we fit a linear relation to the colours via likelihood maximisation. The resulting parameters are interpolated as smooth functions of redshift.\n",
        "\n",
        "Note: To reduce the correlation between the fitted parameters, the x-axes of the linear relation is shifted by the median value of the sample:\n",
        "\n",
        "$$ y = A + B \\times (x- {\\rm median}[x]) $$"
      ]
    },
    {
      "cell_type": "code",
      "execution_count": null,
      "id": "b939b500-d5a9-41d8-a63b-c84ce4783a89",
      "metadata": {
        "id": "b939b500-d5a9-41d8-a63b-c84ce4783a89"
      },
      "outputs": [],
      "source": [
        "import numpy as np\n",
        "import matplotlib.pyplot as plt\n",
        "import emcee\n",
        "from scipy.stats import norm\n",
        "from scipy.optimize import minimize\n",
        "\n",
        "\n",
        "def CMRL(theta, x, y, xerr, yerr):\n",
        "    \"\"\"\n",
        "    Log-likelihood function for fitting the color-magnitude relation with a mixture model.\n",
        "\n",
        "    Args:\n",
        "        theta (tuple): Parameters of the model (A, B, s, p, m0, ds).\n",
        "        x (array): Magnitude values.\n",
        "        y (array): Color values.\n",
        "        xerr (array): Magnitude errors.\n",
        "        yerr (array): Color errors.\n",
        "\n",
        "    Returns:\n",
        "        float: The log-likelihood value.\n",
        "    \"\"\"\n",
        "    A, B, s,p,m0,ds = theta # Unpack parameters\n",
        "    ymod = A + B * (x-np.median(x)) # Calculate the modeled color\n",
        "    ymoderr2 = yerr**2 + s**2 + (xerr * B)**2 # Calculate the squared error of the modeled color\n",
        "    # Calculate the log-likelihood using a mixture of a Gaussian (red sequence) and a uniform distribution (background)\n",
        "    return np.sum(np.log(p*norm.pdf(y, loc=ymod, scale=np.sqrt(ymoderr2))+(1-p)*norm.pdf(y, loc=m0, scale=s+ds)))\n",
        "\n",
        "def CMRL_clipped(theta, x, y, xerr, yerr):\n",
        "    \"\"\"\n",
        "    Log-likelihood function for fitting the color-magnitude relation using sigma-clipped data.\n",
        "\n",
        "    Args:\n",
        "        theta (tuple): Parameters of the model (A, B, s).\n",
        "        x (array): Magnitude values.\n",
        "        y (array): Color values.\n",
        "        xerr (array): Magnitude errors.\n",
        "        yerr (array): Color errors.\n",
        "\n",
        "    Returns:\n",
        "        float: The log-likelihood value.\n",
        "    \"\"\"\n",
        "    A, B, s = theta # Unpack parameters\n",
        "    ymod = A + B * (x-np.median(x)) # Calculate the modeled color\n",
        "    ymoderr2 = yerr**2 + s**2 + (xerr * B)**2 # Calculate the squared error of the modeled color\n",
        "    # Calculate the log-likelihood using a Gaussian distribution\n",
        "    return norm.logpdf(y, loc=ymod, scale=np.sqrt(ymoderr2)).sum()\n",
        "\n",
        "def prior(theta):\n",
        "    \"\"\"\n",
        "    Prior function for the mixture model parameters.\n",
        "\n",
        "    Args:\n",
        "        theta (tuple): Parameters of the model (A, B, s, p, m0, ds).\n",
        "\n",
        "    Returns:\n",
        "        float: The log-prior value (0 for valid parameters, -inf otherwise).\n",
        "    \"\"\"\n",
        "    A, B, s,p,m0,ds = theta # Unpack parameters\n",
        "    # Return 0 if parameters are within valid ranges, -inf otherwise\n",
        "    return 0 if (s > 0) & (ds>0) & (p>0) & (p<1) else -np.inf\n",
        "\n",
        "def prior_clipped(theta):\n",
        "    \"\"\"\n",
        "    Prior function for the sigma-clipped model parameters.\n",
        "\n",
        "    Args:\n",
        "        theta (tuple): Parameters of the model (A, B, s).\n",
        "\n",
        "    Returns:\n",
        "        float: The log-prior value (0 for valid parameters, -inf otherwise).\n",
        "    \"\"\"\n",
        "    A, B, s = theta # Unpack parameters\n",
        "    # Return 0 if s is positive, -inf otherwise\n",
        "    return 0 if (s > 0)  else -np.inf\n",
        "\n",
        "def CMRp(theta, x, y, xerr, yerr):\n",
        "    \"\"\"\n",
        "    Posterior function for the mixture model.\n",
        "\n",
        "    Args:\n",
        "        theta (tuple): Parameters of the model (A, B, s, p, m0, ds).\n",
        "        x (array): Magnitude values.\n",
        "        y (array): Color values.\n",
        "        xerr (array): Magnitude errors.\n",
        "        yerr (array): Color errors.\n",
        "\n",
        "    Returns:\n",
        "        float: The log-posterior value.\n",
        "    \"\"\"\n",
        "    p = prior(theta) # Calculate the log-prior\n",
        "    if p == 0:\n",
        "        return CMRL(theta, x, y, xerr, yerr) + p # Return log-likelihood + log-prior\n",
        "    else:\n",
        "        return -np.inf # Return -inf if prior is -inf\n",
        "\n",
        "def CMRp_clipped(theta, x, y, xerr, yerr):\n",
        "    \"\"\"\n",
        "    Posterior function for the sigma-clipped model.\n",
        "\n",
        "    Args:\n",
        "        theta (tuple): Parameters of the model (A, B, s).\n",
        "        x (array): Magnitude values.\n",
        "        y (array): Color values.\n",
        "        xerr (array): Magnitude errors.\n",
        "        yerr (array): Color errors.\n",
        "\n",
        "    Returns:\n",
        "        float: The log-posterior value.\n",
        "    \"\"\"\n",
        "    p = prior_clipped(theta) # Calculate the log-prior\n",
        "    if p == 0:\n",
        "        return CMRL_clipped(theta, x, y, xerr, yerr) + p # Return log-likelihood + log-prior\n",
        "    else:\n",
        "        return -np.inf # Return -inf if prior is -inf"
      ]
    },
    {
      "cell_type": "code",
      "execution_count": null,
      "id": "3b14a191-e159-406d-9b49-9f97a41d0ca0",
      "metadata": {
        "id": "3b14a191-e159-406d-9b49-9f97a41d0ca0"
      },
      "outputs": [],
      "source": [
        "results = np.zeros((len(zrange), 4, 3))  # Initialize array to store fitting results (z bins, parameters+median, ilab)\n",
        "\n",
        "# Loop over color indices (ilab)\n",
        "for ilab in range(3):\n",
        "    # Loop over redshift bins\n",
        "    for i, j in enumerate(zrange):\n",
        "\n",
        "        # Select galaxies in the current redshift bin and passive galaxies\n",
        "        test1 = np.where((cosmosm[\"EZzphot\"] < (j + dz)) & (cosmosm[\"EZzphot\"] >= j) & (cosmosm[\"passive\"]))[0]\n",
        "        # Perform sigma clipping on the color values\n",
        "        sigmacl = sigma_clip(desm[MLAB[ilab]][test1]-desm[MLAB[ilab+1]][test1],sigma=3., cenfunc='median',stdfunc='mad_std',maxiters=None, masked=True)\n",
        "        sigmaclipped = sigmacl.mask # Get the mask indicating clipped values\n",
        "        test = test1[sigmaclipped] # Apply the mask to the indices\n",
        "\n",
        "        x = desm[MLAB[ilab + 1]][test] # Magnitude values (x-axis)\n",
        "        y = desm[MLAB[ilab]][test] - desm[MLAB[ilab + 1]][test] # Color values (y-axis)\n",
        "        xerr = desm[MLABERR[ilab + 1]][test] # Magnitude errors\n",
        "        yerr = np.sqrt(desm[MLABERR[ilab]][test]**2 + desm[MLABERR[ilab + 1]][test]**2) # Color errors\n",
        "\n",
        "        # Set initial guess for the optimization\n",
        "        if i==0:\n",
        "            p0 = np.random.rand(6)\n",
        "            p0[2] = np.abs(p0[2])  # Ensure s is positive\n",
        "            p0[5] = np.abs(p0[5])  # Ensure ds is positive\n",
        "        else:\n",
        "            p0=soln.x # Use the previous bin's solution as the initial guess\n",
        "\n",
        "        np.random.seed(42) # Set random seed for reproducibility\n",
        "        nll = lambda *args: -CMRp(*args) # Define the negative log-likelihood function\n",
        "        initial = p0 # Set the initial guess\n",
        "        soln = minimize(nll, initial, args=(x, y, xerr, yerr),method=\"Powell\") # Perform optimization using Powell method\n",
        "        results[i, 0:3, ilab] = soln.x[0:3] # Store the fitted parameters (A, B, s)\n",
        "        results[i, 3, ilab] = np.median(x) # Store the median magnitude\n",
        "\n",
        "# Creation of interpolation functions for each parameter and each ilab\n",
        "interp_funcs = {}\n",
        "for idx, param in enumerate(['A', 'B', 's','med']):\n",
        "    interp_funcs[param] = [interp1d(zrange, results[:, idx, k], kind='quadratic', fill_value=\"extrapolate\") for k in range(3)]\n",
        "\n",
        "def CMR(z):\n",
        "    \"\"\"\n",
        "    Returns the interpolated values of A, B, s, and med for each ilab given a redshift z.\n",
        "\n",
        "    Args:\n",
        "        z (float or array): Redshift value(s).\n",
        "\n",
        "    Returns:\n",
        "        list: A list containing interpolated values for A, B, s, and med for each ilab.\n",
        "    \"\"\"\n",
        "    # Return interpolated values by evaluating each interpolation function at redshift z\n",
        "    return [func(z) for sublist in interp_funcs.values() for func in sublist]\n",
        "\n"
      ]
    },
    {
      "cell_type": "code",
      "execution_count": null,
      "id": "t2E9IVEFo59g",
      "metadata": {
        "id": "t2E9IVEFo59g"
      },
      "outputs": [],
      "source": [
        "CMR(0.46) # Evaluate the interpolated functions at redshift 0.46"
      ]
    },
    {
      "cell_type": "code",
      "execution_count": null,
      "id": "fd8b9e4f-19c3-4865-9212-2188fac17c6a",
      "metadata": {
        "id": "fd8b9e4f-19c3-4865-9212-2188fac17c6a"
      },
      "outputs": [],
      "source": [
        "# (Plotting the results)\n",
        "iilab = 2 # Select color index to plot\n",
        "zz = np.linspace(0.05,1.5,1000) # Create a range of redshifts for plotting interpolation\n",
        "plt.plot(zrange, results[:, 0,iilab], 'o',label='A') # Plot fitted A values\n",
        "plt.plot(zz, CMR(zz)[iilab], label='A-') # Plot interpolated A values\n",
        "plt.plot(zrange, results[:, 1,iilab], 'o',label='B') # Plot fitted B values\n",
        "plt.plot(zz, CMR(zz)[iilab+3], label='B-') # Plot interpolated B values\n",
        "plt.plot(zrange, results[:, 2,iilab], 'o',label='s') # Plot fitted s values\n",
        "plt.plot(zz, CMR(zz)[iilab+6], label='s-') # Plot interpolated s values\n",
        "plt.legend()\n",
        "plt.show()\n"
      ]
    },
    {
      "cell_type": "code",
      "execution_count": null,
      "id": "4b0d74b4-be2e-4a35-9de4-d9c58e36e0c9",
      "metadata": {
        "id": "4b0d74b4-be2e-4a35-9de4-d9c58e36e0c9"
      },
      "outputs": [],
      "source": [
        "def model(z,ilab):\n",
        "    \"\"\"\n",
        "    Calculates the modeled color-magnitude relation for a given redshift and color index.\n",
        "\n",
        "    Args:\n",
        "        z (float): Redshift.\n",
        "        ilab (int): Color index.\n",
        "\n",
        "    Returns:\n",
        "        tuple: x (magnitude values), ymod (modeled color values), s (scatter).\n",
        "    \"\"\"\n",
        "    vec = CMR(z) # Get interpolated parameters at redshift z\n",
        "    x = sptcat[MLAB[ilab+1]] # Magnitude values from SPT catalog\n",
        "    y = sptcat[MLAB[ilab]] - sptcat[MLAB[ilab+1]] # Color values from SPT catalog\n",
        "    A = vec[ilab] # Interporlated A parameter\n",
        "    B = vec[ilab+3] # Interporlated B parameter\n",
        "    s = vec[ilab+6] # Interporlated s parameter\n",
        "    med = vec[ilab+9] # Interporlated median magnitude\n",
        "    ymod = A + B * (x-med) # Calculate the modeled color\n",
        "    return x,ymod,s # Return magnitude, modeled color, and scatter\n",
        "\n",
        "zlim = [0.,0.37,0.79,1.5] # Redshift limits for different color indices\n",
        "def like_p_of_z(theta,sptcat):\n",
        "    \"\"\"\n",
        "    Log-likelihood function for fitting redshift and population fraction to SPT data.\n",
        "    For the population fraction we use a mixture of a Gaussian (red sequence cluster members) and a Gaussian (background)\n",
        "\n",
        "    Args:\n",
        "        theta (tuple): Parameters (z=redshift, p= fraction of galay belonging to the cluster,\n",
        "        [s0, s1, s2]= scatters of non-cluster members in the differen G-R, R-I, I-Z planes).\n",
        "        sptcat (astropy.table.Table): The SPT catalog.\n",
        "\n",
        "    Returns:\n",
        "        float: The log-likelihood value.\n",
        "    \"\"\"\n",
        "    z,p,s0,s1,s2 = theta # Unpack parameters (redshift, passive fraction, scatter parameters)\n",
        "    logl = np.zeros(3) # Initialize array for log-likelihood of each color\n",
        "    vec = CMR(z) # Get interpolated color-magnitude relation parameters at redshift z\n",
        "    for ilab in [0,1,2]: # Loop over color indices\n",
        "        x = sptcat[MLAB[ilab+1]] # Magnitude values\n",
        "        y = sptcat[MLAB[ilab]] - sptcat[MLAB[ilab+1]] # Color values\n",
        "        xerr = sptcat[MLABERR[ilab+1]] # Magnitude errors\n",
        "        yerr = np.sqrt(sptcat[MLABERR[ilab]]**2+sptcat[MLABERR[ilab+1]]**2) # Color errors\n",
        "        A = vec[ilab] # Interpolated A parameter\n",
        "        B = vec[ilab+3] # Interpolated B parameter\n",
        "        s = vec[ilab+6] # Interpolated scatter parameter\n",
        "        med = vec[ilab+9] # Interpolated median magnitude\n",
        "        ymod = A + B * (x-med) # Calculate the modeled color\n",
        "        ymoderr2 = yerr**2 + s**2 + (xerr * B)**2 # Calculate the squared error of the modeled color\n",
        "        sigma = theta[2+ilab] # Scatter parameter from input theta\n",
        "        # Calculate log-likelihood using a mixture of a Gaussian (red sequence) and a Gaussian (background)\n",
        "        logl[ilab]= np.sum(np.log(p*norm.pdf(y, loc=ymod, scale=np.sqrt(ymoderr2))+(1-p)*norm.pdf(y, loc=np.median(y), scale=sigma)))\n",
        "    return np.sum(logl) # Return the total log-likelihood\n",
        "\n",
        "def prior_p_of_z(theta):\n",
        "    \"\"\"\n",
        "    Prior function for the SPT fitting parameters.\n",
        "\n",
        "    Args:\n",
        "        theta (tuple): Parameters (z, p, s0, s1, s2).\n",
        "\n",
        "    Returns:\n",
        "        float: The log-prior value (0 for valid parameters, -inf otherwise).\n",
        "    \"\"\"\n",
        "    z,p,s0,s1,s2 = theta # Unpack parameters\n",
        "    # Return 0 if parameters are within valid ranges, -inf otherwise\n",
        "    if (z>0) & (z<1.2) & (p>0) & (p<1) & (s0>0) & (s1>0) & (s2>0):\n",
        "        return 0\n",
        "    else:\n",
        "        return -np.inf\n",
        "\n",
        "def post_p_of_z(theta,sptcat):\n",
        "    \"\"\"\n",
        "    Posterior function for the SPT fitting.\n",
        "\n",
        "    Args:\n",
        "        theta (tuple): Parameters (z, p, s0, s1, s2).\n",
        "        sptcat (astropy.table.Table): The SPT catalog.\n",
        "\n",
        "    Returns:\n",
        "        float: The log-posterior value.\n",
        "    \"\"\"\n",
        "    lp = prior_p_of_z(theta) # Calculate the log-prior\n",
        "    ll = like_p_of_z(theta,sptcat) # Calculate the log-likelihood\n",
        "    if np.isfinite(lp+ll):\n",
        "        return lp+ll\n",
        "    else:\n",
        "        return -np.inf"
      ]
    },
    {
      "cell_type": "markdown",
      "id": "df1b7df8",
      "metadata": {
        "id": "df1b7df8"
      },
      "source": [
        "### Applying the model to SPT data\n",
        "\n",
        "The interpolated relations are evaluated on SPT cluster galaxies and an MCMC sampler estimates the cluster properties."
      ]
    },
    {
      "cell_type": "code",
      "execution_count": null,
      "id": "5cd67d49-71de-44f7-88ef-c66d7ae050aa",
      "metadata": {
        "id": "5cd67d49-71de-44f7-88ef-c66d7ae050aa"
      },
      "outputs": [],
      "source": [
        "y6lim = [24.5,24,23.4,22.75] # Magnitude limits for SPT Y6 survey bands (g, r, i, z)\n",
        "from astropy.table import Table # Import Table for working with astronomical tables\n",
        "sptcat = Table.read(\"/content/drive/My Drive/ObservationalCosmology/Photo-z/sptclust.0.60.fits\") # Read the SPT cluster catalog\n",
        "# Apply selection cuts to the SPT catalog based on various flags and magnitude errors\n",
        "sptcat = sptcat[(sptcat[\"FLAGS_FOOTPRINT\"]==1) & (sptcat[\"FLAGS_GOLD\"] == 0)& (sptcat[\"FLAGSTR\"] == \"ok\") & (sptcat[\"FLAGS_FOREGROUND\"] == 0) &\n",
        "(sptcat[\"FITVD_FLAGS\"] == 0) &  (sptcat[\"MASK_FLAGS\"] == 0) & (np.abs(sptcat[\"SPREADERR_MODEL_G\"]) <0.1) &\n",
        "(sptcat[\"MAGERR_AUTO_G\"] > 0) & (sptcat[\"MAGERR_AUTO_R\"] > 0) & (sptcat[\"MAGERR_AUTO_I\"] > 0) & (sptcat[\"MAGERR_AUTO_Z\"] > 0)\n",
        "& (sptcat[\"MAG_AUTO_G\"] <y6lim[0]) & (sptcat[\"MAG_AUTO_R\"] <y6lim[1]) & (sptcat[\"MAG_AUTO_I\"] <y6lim[2]) & (sptcat[\"MAG_AUTO_Z\"] <y6lim[3])]\n",
        "#& (np.abs(sptcat[\"DEC\"]-np.median(sptcat[\"DEC\"]))<1./60) & # Optional cut based on median declination (commented out)\n",
        "#(np.abs((sptcat[\"RA\"]-np.median(sptcat[\"RA\"]))*np.cos(np.deg2rad(np.median(sptcat[\"DEC\"]))))<1./60)] # Optional cut based on median right ascension (commented out)\n",
        "#sptcat # Display the filtered SPT catalog (commented out)\n",
        "\n",
        "# Standardize column names for magnitudes and errors using BDF corrected values\n",
        "sptcat[\"MAG_G\"] = sptcat[\"BDF_MAG_G_CORRECTED\"]\n",
        "sptcat[\"MAG_R\"] = sptcat[\"BDF_MAG_R_CORRECTED\"]\n",
        "sptcat[\"MAG_I\"] = sptcat[\"BDF_MAG_I_CORRECTED\"]\n",
        "sptcat[\"MAG_Z\"] = sptcat[\"BDF_MAG_Z_CORRECTED\"]\n",
        "\n",
        "# sptcat[\"MAG_G\"] = sptcat[\"MAG_AUTO_G\"] # Alternative: use AUTO magnitudes (commented out)\n",
        "# sptcat[\"MAG_R\"] = sptcat[\"MAG_AUTO_R\"] # Alternative: use AUTO magnitudes (commented out)\n",
        "# sptcat[\"MAG_I\"] = sptcat[\"MAG_AUTO_I\"] # Alternative: use AUTO magnitudes (commented out)\n",
        "# sptcat[\"MAG_Z\"] = sptcat[\"MAG_AUTO_Z\"] # Alternative: use AUTO magnitudes (commented out)\n",
        "\n",
        "# Standardize column names for magnitude errors using BDF errors\n",
        "sptcat[\"MAGERR_G\"] = sptcat[\"BDF_MAG_ERR_G\"]\n",
        "sptcat[\"MAGERR_R\"] = sptcat[\"BDF_MAG_ERR_R\"]\n",
        "sptcat[\"MAGERR_I\"] = sptcat[\"BDF_MAG_ERR_I\"]\n",
        "sptcat[\"MAGERR_Z\"] = sptcat[\"BDF_MAG_ERR_Z\"]\n",
        "#MLAB = [\"MAG_AUTO_G\",\"MAG_AUTO_R\",\"MAG_AUTO_I\",\"MAG_AUTO_Z\"] # Alternative magnitude column names (commented out)\n",
        "#MLABERR = [\"MAGERR_AUTO_G\",\"MAGERR_AUTO_R\",\"MAGERR_AUTO_I\",\"MAGERR_AUTO_Z\"] # Alternative magnitude error column names (commented out)\n",
        "#MLABERR = [\"BDF_MAG_ERR_G\",\"BDF_MAG_ERR_R\",\"BDF_MAG_ERR_I\",\"BDF_MAG_ERR_Z\"] # Alternative magnitude error column names (commented out)\n",
        "\n",
        "# Calculate and print the log-posterior for different initial redshift guesses\n",
        "print(post_p_of_z([0.25,0.9,1,1,1],sptcat),post_p_of_z([0.41,0.9,1,1,1],sptcat),post_p_of_z([0.93,0.9,1,1,1],sptcat))"
      ]
    },
    {
      "cell_type": "code",
      "execution_count": null,
      "id": "EZg6Uyy6rG3p",
      "metadata": {
        "id": "EZg6Uyy6rG3p"
      },
      "outputs": [],
      "source": [
        "# Plot the G-band magnitude vs Right Ascension for the SPT catalog\n",
        "plt.plot(sptcat['RA'],sptcat['MAG_G'],'.')"
      ]
    },
    {
      "cell_type": "code",
      "execution_count": null,
      "id": "932d8d82-4136-49f4-857a-e65a52e35947",
      "metadata": {
        "id": "932d8d82-4136-49f4-857a-e65a52e35947"
      },
      "outputs": [],
      "source": [
        "nll = lambda *args: -post_p_of_z(*args) # Define the negative log-posterior function for optimization\n",
        "#soln = minimize(nll,[0.4,0.9,1,1,1], args=(sptcat),method=\"Powell\") # Initial optimization attempt (commented out)\n",
        "#soln = minimize(nll,soln.x , args=(sptcat),method=\"Nelder-Mead\") # Further optimization (commented out)\n",
        "#soln = minimize(nll,[0.5,0.1,0.4,0.175,0.15] , args=(sptcat),method=\"Nelder-Mead\") # Another initial guess and method (commented out)\n",
        "initial = [0.1,0.1,0.4,0.175,0.15] # Define an initial guess for the parameters (z, p, s0, s1, s2)\n",
        "bestf = np.inf # Initialize the best function value to infinity\n",
        "bestp = initial # Initialize the best parameters to the initial guess\n",
        "soln = minimize(nll,initial , args=(sptcat)) # Perform initial optimization\n",
        "# Loop through different initial redshift values to find the best starting point\n",
        "for i in np.arange(0.1,1.3,0.1):\n",
        "    initial[0] = i # Set the initial redshift for the current iteration\n",
        "    soln = minimize(nll,initial , args=(sptcat)) # Perform optimization with the current initial redshift\n",
        "    if soln.fun < bestf: # Check if the current solution is better than the best found so far\n",
        "        bestp = soln.x # Update the best parameters\n",
        "        bestf = soln.fun # Update the best function value\n",
        "soln = minimize(nll,bestp , args=(sptcat)) # Perform final optimization starting from the best found parameters\n",
        "print(soln, post_p_of_z(soln.x,sptcat)) # Print the optimization result and the log-posterior at the best parameters"
      ]
    },
    {
      "cell_type": "code",
      "execution_count": null,
      "id": "3c710a24-7882-4882-b86e-21fe9d01afb8",
      "metadata": {
        "id": "3c710a24-7882-4882-b86e-21fe9d01afb8"
      },
      "outputs": [],
      "source": [
        "# Create a figure with three subplots to visualize the color-magnitude relation for each color index\n",
        "fig, axes = plt.subplots(1, 3, figsize=(15, 5), sharey=True)\n",
        "for ilab in range(3): # Loop over color indices (0, 1, 2 for g-r, r-i, i-z)\n",
        "    x = sptcat[MLAB[ilab + 1]] # Magnitude values for the current color index\n",
        "    y = sptcat[MLAB[ilab]] - sptcat[MLAB[ilab + 1]] # Color values for the current color index\n",
        "    xmod, ymod, s = model(soln.x[0], ilab) # Calculate the modeled color-magnitude relation using the fitted redshift\n",
        "\n",
        "    ax = axes[ilab] # Select the current subplot\n",
        "    ax.scatter(x, y, alpha=0.5, label=f'ilab={ilab}') # Plot the SPT galaxies as scatter points\n",
        "    ax.plot(xmod, ymod, color='red', label='Model Fit') # Plot the modeled color-magnitude relation\n",
        "    ax.set_title(f'Panel {ilab + 1} (ilab={ilab}) z={round(soln.x[0],2)}') # Set the title of the subplot\n",
        "    ax.set_xlabel(MLAB[ilab + 1]) # Set the x-axis label\n",
        "    ax.set_ylabel(f'{MLAB[ilab]} - {MLAB[ilab + 1]}') # Set the y-axis label\n",
        "    ax.legend() # Show the legend\n",
        "\n",
        "plt.tight_layout() # Adjust layout to prevent overlapping titles/labels\n",
        "plt.show() # Display the plot\n",
        "\n",
        "print(soln.x[0]) # Print the fitted redshift"
      ]
    },
    {
      "cell_type": "code",
      "execution_count": null,
      "id": "349ad296-bfbb-4332-82fc-88e4f332944d",
      "metadata": {
        "id": "349ad296-bfbb-4332-82fc-88e4f332944d"
      },
      "outputs": [],
      "source": [
        "pos = soln.x * (1+1e-1 * np.random.randn(32, 5)) # Initialize the starting positions for the MCMC walkers with a small perturbation around the optimized parameters\n",
        "#pos = [0.2,0.9,1] # Alternative initial positions (commented out)\n",
        "nwalkers, ndim = pos.shape # Get the number of walkers and dimensions from the initial positions\n",
        "\n",
        "sampler = emcee.EnsembleSampler(nwalkers, ndim, post_p_of_z, args=([sptcat])) # Initialize the MCMC sampler\n",
        "sampler.run_mcmc(pos, 500, progress=True); # Run the MCMC sampler for 500 steps\n",
        "fig, axes = plt.subplots(ndim, figsize=(10, 7), sharex=True) # Create a figure with subplots for each parameter to visualize the chains\n",
        "samples = sampler.get_chain() # Get the MCMC chains\n",
        "for i in range(ndim): # Loop over the parameters\n",
        "    ax = axes[i] # Select the current subplot\n",
        "    ax.plot(samples[:, :, i], \"k\", alpha=0.3) # Plot the chain for the current parameter\n",
        "    ax.set_xlim(0, len(samples)) # Set the x-axis limits\n",
        "    ax.yaxis.set_label_coords(-0.1, 0.5) # Adjust the position of the y-axis label\n",
        "\n",
        "axes[-1].set_xlabel(\"step number\"); # Set the x-axis label for the bottom subplot"
      ]
    },
    {
      "cell_type": "code",
      "execution_count": null,
      "id": "f1470ca7-9669-4d6b-85bc-6ff8abd56ad0",
      "metadata": {
        "id": "f1470ca7-9669-4d6b-85bc-6ff8abd56ad0"
      },
      "outputs": [],
      "source": [
        "flat_samples = sampler.get_chain(flat=True,discard=200) # Get the flattened MCMC chains after discarding the burn-in period (first 200 steps)\n",
        "plt.hist(flat_samples[:,0],bins=50) # Plot a histogram of the posterior distribution for the redshift (the first parameter"
      ]
    },
    {
      "cell_type": "code",
      "execution_count": null,
      "id": "c1d5f53d-c21a-47ff-8174-ea8b702d304d",
      "metadata": {
        "id": "c1d5f53d-c21a-47ff-8174-ea8b702d304d"
      },
      "outputs": [],
      "source": [
        "zrange = np.arange(0.05,1.5,0.075) # Define redshift bins (re-defining for plotting purposes)\n",
        "dz = zrange[1]-zrange[0] # Calculate redshift bin width (re-calculating)\n",
        "\n",
        "#plt.legend() # Show legend (commented out)\n",
        "for i,j in enumerate(zrange): # Loop over the redshift bins\n",
        "    test = (cosmosm[\"EZzphot\"]<j+dz) & (cosmosm[\"EZzphot\"]>=j) & (cosmosm[\"passive\"]) # Select passive galaxies within the current redshift bin\n",
        "    fig, axes = plt.subplots(1, 3, figsize=(15, 5), sharey=True) # Create a figure with subplots for each color index\n",
        "    for ilab in range(3): # Loop over color indices\n",
        "        x = desm[MLAB[ilab + 1]][test] # Magnitude values\n",
        "        y = desm[MLAB[ilab]][test] - desm[MLAB[ilab + 1]][test] # Color values\n",
        "        xmod, ymod, s = model(np.mean(cosmosm[\"EZzphot\"][test]), ilab) # Calculate the modeled color-magnitude relation using the mean redshift of the galaxies in the bin\n",
        "\n",
        "        ax = axes[ilab] # Select the current subplot\n",
        "        ax.scatter(x, y, alpha=0.5, label=f'ilab={ilab}') # Plot the DES galaxies in the current redshift bin\n",
        "        ax.plot(xmod, ymod, color='red', label='Model Fit') # Plot the modeled color-magnitude relation\n",
        "        ax.set_title(f'Panel {ilab + 1} (ilab={ilab}) z='+str(np.mean(cosmosm[\"EZzphot\"][test]))) # Set the title of the subplot\n",
        "        ax.set_xlabel(MLAB[ilab + 1]) # Set the x-axis label\n",
        "        ax.set_ylabel(f'{MLAB[ilab]} - {MLAB[ilab + 1]}') # Set the y-axis label\n",
        "        ax.legend() # Show the legend\n",
        "\n",
        "    plt.tight_layout() # Adjust layout\n",
        "    plt.show() # Display the plot"
      ]
    },
    {
      "cell_type": "code",
      "execution_count": null,
      "id": "97413774-0753-4ac7-9788-6a08e8719485",
      "metadata": {
        "id": "97413774-0753-4ac7-9788-6a08e8719485"
      },
      "outputs": [],
      "source": [
        "filt = [(398,548),(568,716),(710,857),(850,1002)] # Define filter wavelength ranges\n",
        "for i in filt: # Loop over the filter ranges\n",
        "    print(i[0]/400.-1,i[1]/400.-1) # Print normalized filter ranges"
      ]
    },
    {
      "cell_type": "code",
      "execution_count": null,
      "id": "ffffb2c1-6c0c-4685-b4af-aa948abd228d",
      "metadata": {
        "id": "ffffb2c1-6c0c-4685-b4af-aa948abd228d"
      },
      "outputs": [],
      "source": [
        "spt = Table.read(\"/content/drive/My Drive/ObservationalCosmology/Photo-z/SPTpol_500d_catalog_tablevOct3.fits\")"
      ]
    },
    {
      "cell_type": "code",
      "execution_count": null,
      "id": "a5e49702-c2a4-45c3-80c4-c5a384167760",
      "metadata": {
        "id": "a5e49702-c2a4-45c3-80c4-c5a384167760"
      },
      "outputs": [],
      "source": [
        "spt[spt[\"XI\"]>10] # Display rows where the \"XI\" column is greater than 10"
      ]
    },
    {
      "cell_type": "code",
      "execution_count": null,
      "id": "Mr9nb8jXdFJS",
      "metadata": {
        "id": "Mr9nb8jXdFJS"
      },
      "outputs": [],
      "source": []
    },
    {
      "cell_type": "markdown",
      "id": "607ab8f2",
      "metadata": {
        "id": "607ab8f2"
      },
      "source": [
        "### Further analysis\n",
        "\n",
        "The remaining cells load additional SPT catalogues and provide examples of exploratory plots and checks."
      ]
    }
  ],
  "metadata": {
    "colab": {
      "private_outputs": true,
      "provenance": [],
      "include_colab_link": true
    },
    "kernelspec": {
      "display_name": "Python 3",
      "name": "python3"
    },
    "language_info": {
      "codemirror_mode": {
        "name": "ipython",
        "version": 3
      },
      "file_extension": ".py",
      "mimetype": "text/x-python",
      "name": "python",
      "nbconvert_exporter": "python",
      "pygments_lexer": "ipython3",
      "version": "3.9.18"
    }
  },
  "nbformat": 4,
  "nbformat_minor": 5
}